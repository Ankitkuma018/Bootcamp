{
  "nbformat": 4,
  "nbformat_minor": 0,
  "metadata": {
    "colab": {
      "provenance": []
    },
    "kernelspec": {
      "name": "python3",
      "display_name": "Python 3"
    },
    "language_info": {
      "name": "python"
    }
  },
  "cells": [
    {
      "cell_type": "code",
      "execution_count": null,
      "metadata": {
        "colab": {
          "base_uri": "https://localhost:8080/"
        },
        "id": "-fBnzlKxhk3x",
        "outputId": "0e220164-93e3-4fcc-ef5e-36006c0ddd88"
      },
      "outputs": [
        {
          "output_type": "stream",
          "name": "stdout",
          "text": [
            "value of sum = 7\n"
          ]
        }
      ],
      "source": [
        "a=2\n",
        "b=5\n",
        "c=a+b\n",
        "print(\"value of sum =\",c)"
      ]
    }
  ]
}