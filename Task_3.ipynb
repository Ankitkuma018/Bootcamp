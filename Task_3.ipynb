{
  "nbformat": 4,
  "nbformat_minor": 0,
  "metadata": {
    "colab": {
      "provenance": []
    },
    "kernelspec": {
      "name": "python3",
      "display_name": "Python 3"
    },
    "language_info": {
      "name": "python"
    }
  },
  "cells": [
    {
      "cell_type": "code",
      "source": [
        "a= int(input(\"enter first number\"))\n",
        "b= int(input(\"enter second number\"))\n",
        "c= a*b\n",
        "print(\" multiplication of two number is=\",c)"
      ],
      "metadata": {
        "colab": {
          "base_uri": "https://localhost:8080/"
        },
        "id": "sZEuYBWrldmc",
        "outputId": "ae4c6ad2-8663-4d4a-f344-fbddefcf71e0"
      },
      "execution_count": null,
      "outputs": [
        {
          "output_type": "stream",
          "name": "stdout",
          "text": [
            "enter first number75\n",
            "enter second number65\n",
            " multiplication of two number is= 4875\n"
          ]
        }
      ]
    },
    {
      "cell_type": "code",
      "source": [
        "a = float(input(\"Enter first number: \"))\n",
        "b = float(input(\"Enter second number: \"))\n",
        "c = a * b\n",
        "print(\"Multiplication of two numbers is =\", c)"
      ],
      "metadata": {
        "colab": {
          "base_uri": "https://localhost:8080/"
        },
        "id": "YWJoYHTXpmNw",
        "outputId": "32f400b5-fba5-4121-9980-4f2476cce41d"
      },
      "execution_count": null,
      "outputs": [
        {
          "output_type": "stream",
          "name": "stdout",
          "text": [
            "Enter first number: 85\n",
            "Enter second number: 65\n",
            "Multiplication of two numbers is = 5525.0\n"
          ]
        }
      ]
    }
  ]
}